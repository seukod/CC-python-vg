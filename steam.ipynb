{
 "cells": [
  {
   "cell_type": "code",
   "execution_count": null,
   "metadata": {
    "colab": {
     "background_save": true,
     "base_uri": "https://localhost:8080/"
    },
    "id": "Ia5fS3YC_gWn"
   },
   "outputs": [
    {
     "name": "stdout",
     "output_type": "stream",
     "text": [
      "Mounted at /content/drive\n"
     ]
    },
    {
     "name": "stderr",
     "output_type": "stream",
     "text": [
      "Consultando API: 100%|██████████| 100/100 [01:56<00:00,  1.17s/it]"
     ]
    },
    {
     "name": "stdout",
     "output_type": "stream",
     "text": [
      "Datos guardados en Drive: /content/drive/MyDrive/SteamCharts_Data/steamcharts_data.csv\n"
     ]
    },
    {
     "name": "stderr",
     "output_type": "stream",
     "text": [
      "\n"
     ]
    }
   ],
   "source": [
    "import requests\n",
    "import pandas as pd\n",
    "import time\n",
    "import os\n",
    "from tqdm import tqdm\n",
    "from google.colab import drive\n",
    "\n",
    "# Montar Google Drive\n",
    "drive.mount('/content/drive')\n",
    "\n",
    "# Configuración\n",
    "DRIVE_PATH = '/content/drive/MyDrive/SteamCharts_Data'  # Carpeta en Drive\n",
    "CSV_FILE = os.path.join(DRIVE_PATH, 'steamcharts_data.csv')\n",
    "RESUME_FILE = os.path.join(DRIVE_PATH, 'scraped_ids.txt')\n",
    "API_BASE_URL = 'https://steamcharts.com/api'\n",
    "\n",
    "# Headers para la API\n",
    "HEADERS = {\n",
    "    'User-Agent': 'Mozilla/5.0 (Windows NT 10.0; Win64; x64) AppleWebKit/537.36 (KHTML, like Gecko) Chrome/91.0.4472.124 Safari/537.36',\n",
    "    'Accept': 'application/json'\n",
    "}\n",
    "\n",
    "# Crear carpeta en Drive si no existe\n",
    "os.makedirs(DRIVE_PATH, exist_ok=True)\n",
    "\n",
    "# Cargar IDs ya procesadas\n",
    "def load_scraped_ids():\n",
    "    if os.path.exists(RESUME_FILE):\n",
    "        with open(RESUME_FILE, 'r') as f:\n",
    "            return set(line.strip() for line in f)\n",
    "    return set()\n",
    "\n",
    "# Guardar ID procesada\n",
    "def save_id(game_id):\n",
    "    with open(RESUME_FILE, 'a') as f:\n",
    "        f.write(f\"{game_id}\\n\")\n",
    "\n",
    "# Obtener datos de la API\n",
    "def get_game_data(game_id):\n",
    "    url = f\"{API_BASE_URL}/app/{game_id}\"\n",
    "    try:\n",
    "        response = requests.get(url, headers=HEADERS)\n",
    "        if response.status_code == 200:\n",
    "            return response.json()\n",
    "        return None\n",
    "    except Exception as e:\n",
    "        print(f\"Error en ID {game_id}: {e}\")\n",
    "        return None\n",
    "\n",
    "# Función principal\n",
    "def main(start_id=1, end_id=100):\n",
    "    # Cargar CSV existente o crear uno nuevo\n",
    "    if os.path.exists(CSV_FILE):\n",
    "        df = pd.read_csv(CSV_FILE)\n",
    "    else:\n",
    "        df = pd.DataFrame(columns=['game_id', 'name', 'current_players', 'peak_players', 'hours_played', 'last_updated'])\n",
    "\n",
    "    scraped_ids = load_scraped_ids()\n",
    "\n",
    "    # Procesar IDs en rango\n",
    "    for game_id in tqdm(range(start_id, end_id + 1), desc=\"Consultando API\"):\n",
    "        str_id = str(game_id)\n",
    "        if str_id in scraped_ids:\n",
    "            continue\n",
    "\n",
    "        data = get_game_data(game_id)\n",
    "        if data:\n",
    "            new_row = {\n",
    "                'game_id': game_id,\n",
    "                'name': data.get('name', 'N/A'),\n",
    "                'current_players': data.get('current_players', 0),\n",
    "                'peak_players': data.get('peak_players', 0),\n",
    "                'hours_played': data.get('hours_played', 0),\n",
    "                'last_updated': pd.Timestamp.now()\n",
    "            }\n",
    "            df = pd.concat([df, pd.DataFrame([new_row])], ignore_index=True)\n",
    "            save_id(str_id)\n",
    "\n",
    "        time.sleep(1)  # Evitar rate-limiting\n",
    "\n",
    "    # Guardar CSV en Drive\n",
    "    df.to_csv(CSV_FILE, index=False)\n",
    "    print(f\"Datos guardados en Drive: {CSV_FILE}\")\n",
    "\n",
    "# Ejecutar\n",
    "main(start_id=1, end_id=100)"
   ]
  }
 ],
 "metadata": {
  "accelerator": "GPU",
  "colab": {
   "gpuType": "T4",
   "name": "",
   "version": ""
  },
  "kernelspec": {
   "display_name": "Python 3",
   "name": "python3"
  },
  "language_info": {
   "name": "python"
  }
 },
 "nbformat": 4,
 "nbformat_minor": 0
}
